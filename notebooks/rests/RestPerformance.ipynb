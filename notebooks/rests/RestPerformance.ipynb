{
 "cells": [
  {
   "cell_type": "code",
   "execution_count": 1,
   "id": "fd28d3ac-db93-43ff-a5ea-ded8299014fd",
   "metadata": {},
   "outputs": [],
   "source": [
    "import torch \n",
    "from torch.utils import data\n",
    "from torch import nn\n",
    "\n",
    "from typing import List, Tuple, Dict, Union, Optional\n",
    "from typing import Iterable\n",
    "\n",
    "import pandas as pd\n",
    "import numpy as np\n",
    "import surprise\n",
    "\n",
    "from sdv.tabular import CTGAN, GaussianCopula, CopulaGAN\n",
    "import time\n",
    "\n",
    "from tqdm.notebook import tqdm"
   ]
  },
  {
   "cell_type": "code",
   "execution_count": 2,
   "id": "b6b397c8-f4ee-4876-a469-32f8e1c7a155",
   "metadata": {},
   "outputs": [],
   "source": [
    "import sys\n",
    "import os \n",
    "\n",
    "module_path = os.path.abspath(os.path.join('../..'))\n",
    "if module_path not in sys.path:\n",
    "    sys.path.append(module_path)\n",
    "\n",
    "sys.path.insert(0, r'./modules/')"
   ]
  },
  {
   "cell_type": "code",
   "execution_count": 3,
   "id": "d9ea92a4-d3fd-4a5e-baf9-105d38036249",
   "metadata": {},
   "outputs": [],
   "source": [
    "from modules import AutoRec, Model, CollobarativeModel\n",
    "from modules import get_validation_data, Dataset\n",
    "from modules import nmf, svd, knn, autorec"
   ]
  },
  {
   "cell_type": "code",
   "execution_count": 4,
   "id": "e9e2ff41-e15b-4059-b011-273499504bc2",
   "metadata": {},
   "outputs": [],
   "source": [
    "SEED = 2022\n",
    "CNT = 10\n",
    "SAMPLE_SIZE = [0.1, 0.5, 0.9]\n",
    "\n",
    "USERPROFILE_DATASET_PATH =  os.path.join('../..', r\"data/userprofile.csv\")\n",
    "USERCUISINE_DATASET_PATH =  os.path.join('../..', r\"data/usercuisine.csv\")\n",
    "CHEFMOZCUISINE_DATASET_PATH =  os.path.join('../..', r\"data/chefmozcuisine.csv\")\n",
    "RATINGS_DATASET_PATH =  os.path.join('../..', r\"data/ratings_reformatted.csv\")\n",
    "\n",
    "REAL_DATASET_SAMPLE_SIZE = 0.0229\n",
    "CACHE_DIR = \"./cache\""
   ]
  },
  {
   "cell_type": "code",
   "execution_count": 9,
   "id": "7b704ae9-0687-483b-8bfc-e98387538d53",
   "metadata": {},
   "outputs": [],
   "source": [
    "to_dataset = lambda x: Dataset(x, \n",
    "                  real_data.user_id.unique().shape[0], \n",
    "                  real_data.item_id.unique().shape[0], \n",
    "                  user_based=True,\n",
    "                  long_matrix=True,\n",
    "                  user_column=\"user_id\", item_column=\"item_id\", rating_column=\"rating\")"
   ]
  },
  {
   "cell_type": "markdown",
   "id": "834f261e-ce96-4534-9fd4-b1a73e704fe2",
   "metadata": {},
   "source": [
    "## 1. Real restaurants data experiments"
   ]
  },
  {
   "cell_type": "markdown",
   "id": "e40c1b8a-6200-4845-bd8b-349107423fe9",
   "metadata": {},
   "source": [
    "### 1.1. Data processing"
   ]
  },
  {
   "cell_type": "code",
   "execution_count": 10,
   "id": "75db3387-6dc2-4890-be0e-a7c8ac1541cf",
   "metadata": {},
   "outputs": [],
   "source": [
    "def prepare_user_profile_df(df):\n",
    "    df = df.drop([\"latitude\", \"longitude\"], axis=1)\n",
    "    df = df.replace(\"?\", pd.NA)\n",
    "    df = df.fillna(method=\"bfill\")\n",
    "    return df\n",
    "\n",
    "\n",
    "def prepare_user_cuisine_df(df):\n",
    "    df.drop_duplicates()\n",
    "    df = df.join(pd.get_dummies(df[\"Rcuisine\"]))\n",
    "    df = df.drop(\"Rcuisine\", axis=1)\n",
    "    df = df.groupby(\"userID\").sum()\n",
    "    return df\n",
    "\n",
    "\n",
    "def load_and_clean_users_df():\n",
    "    user_profile_df = pd.read_csv(USERPROFILE_DATASET_PATH)\n",
    "    user_cuisine_df = pd.read_csv(USERCUISINE_DATASET_PATH)\n",
    "    user_profile_df = prepare_user_profile_df(user_profile_df)\n",
    "    user_cuisine_df = prepare_user_cuisine_df(user_cuisine_df)\n",
    "\n",
    "    users_df = pd.merge(user_profile_df, user_cuisine_df, on=\"userID\")\n",
    "    return users_df\n",
    "\n",
    "\n",
    "def load_and_prepare_rest_cuisine_df():\n",
    "    df = pd.read_csv(CHEFMOZCUISINE_DATASET_PATH)\n",
    "    df = df.drop_duplicates()\n",
    "    df = df.join(pd.get_dummies(df[\"Rcuisine\"]))\n",
    "    df = df.drop(\"Rcuisine\", axis=1)\n",
    "    df = df.groupby(\"placeID\").sum()\n",
    "    return df\n",
    "\n"
   ]
  },
  {
   "cell_type": "code",
   "execution_count": 11,
   "id": "129efd4e-542c-4adc-826c-9a0753b53dc5",
   "metadata": {},
   "outputs": [],
   "source": [
    "users_df = load_and_clean_users_df()\n",
    "rests_df = load_and_prepare_rest_cuisine_df()\n",
    "ratings_df = pd.read_csv(RATINGS_DATASET_PATH)\n",
    "\n",
    "merged_df = pd.merge(ratings_df, users_df, on=\"userID\")\n",
    "merged_df = pd.merge(merged_df, rests_df, on=\"placeID\")\n",
    "\n",
    "rests_df['placeID'] = rests_df.index\n",
    "rests_df = rests_df.reset_index(drop=True)\n",
    "users_df[\"userID\"] = users_df[\"userID\"].astype(\"category\").cat.codes\n",
    "merged_df[\"userID\"] = merged_df[\"userID\"].astype(\"category\").cat.codes\n",
    "merged_df[\"placeID\"] = merged_df[\"placeID\"].astype(\"category\").cat.codes"
   ]
  },
  {
   "cell_type": "code",
   "execution_count": 12,
   "id": "729f2b96-4270-438e-98b8-8e7943ce1e93",
   "metadata": {},
   "outputs": [],
   "source": [
    "real_data = merged_df\n",
    "real_data = real_data.rename(columns={\"userID\": \"user_id\", \"placeID\": \"item_id\"})\n",
    "real_data = real_data[[\"user_id\", \"item_id\", \"rating\"]]\n",
    "\n",
    "real_data.rating = real_data.rating+1"
   ]
  },
  {
   "cell_type": "markdown",
   "id": "a6ebff92-4a06-44fe-acf1-3b61fedf80d4",
   "metadata": {},
   "source": [
    "### 1.2. Sparse case"
   ]
  },
  {
   "cell_type": "code",
   "execution_count": 14,
   "id": "730dc58f-f6a1-4fcf-b538-48c73bfbfd3a",
   "metadata": {},
   "outputs": [],
   "source": [
    "result = pd.DataFrame()\n",
    "\n",
    "np.random.seed(SEED)\n",
    "torch.manual_seed(SEED)\n",
    "torch.cuda.manual_seed(SEED)"
   ]
  },
  {
   "cell_type": "code",
   "execution_count": null,
   "id": "4be4a377-2189-48cd-ace0-8bfdef4fdda1",
   "metadata": {},
   "outputs": [],
   "source": [
    "for sample in SAMPLE_SIZE:\n",
    "    TRAIN, TEST = [], []\n",
    "    for i in range(CNT):\n",
    "        data_sparse = real_data.copy()\n",
    "        data_sparse = data_sparse.sample(frac=sample)\n",
    "        data_train = data_sparse.sample(frac=0.8)\n",
    "        data_test = data_sparse.drop(data_train.index)\n",
    "\n",
    "\n",
    "        TRAIN.append(data_train)\n",
    "        TEST.append(data_test)\n",
    "        \n",
    "    TRAIN = list(map(to_dataset, TRAIN))\n",
    "    TEST = list(map(to_dataset, TEST))\n",
    "    \n",
    "    print(\"SVD\")\n",
    "    print(\"-------------------------------------\")\n",
    "    svd_result = svd(TRAIN, TEST, sample, cnt=CNT)\n",
    "    print(\"NMF\")\n",
    "    print(\"-------------------------------------\")\n",
    "    nmf_result = nmf(TRAIN, TEST, sample, cnt=CNT)\n",
    "    print(\"kNN\")\n",
    "    print(\"-------------------------------------\")\n",
    "    knn_result = knn(TRAIN, TEST, sample, cnt=CNT)\n",
    "    print(\"AutoRec\")\n",
    "    print(\"-------------------------------------\")\n",
    "    autorec_result = autorec(TRAIN, TEST, real_data, sample, cnt=CNT)\n",
    "    \n",
    "    result = result.append(svd_result)\n",
    "    result = result.append(nmf_result)\n",
    "    result = result.append(knn_result)\n",
    "    result = result.append(autorec_result)"
   ]
  },
  {
   "cell_type": "code",
   "execution_count": 18,
   "id": "fb216432-7ff6-4d7d-a740-81a825a74326",
   "metadata": {},
   "outputs": [],
   "source": [
    "real_sparse = result.copy()"
   ]
  },
  {
   "cell_type": "markdown",
   "id": "2fc51abb-50a7-4589-b6e3-66cac96c59ed",
   "metadata": {},
   "source": [
    "## 2. Synthetic restaurants data experiments"
   ]
  },
  {
   "cell_type": "markdown",
   "id": "a755bb59-fa84-401f-aecd-42145e27d662",
   "metadata": {},
   "source": [
    "### 2.1. Generate synthetic data"
   ]
  },
  {
   "cell_type": "code",
   "execution_count": 19,
   "id": "a1f0b4ec-b148-46e9-8554-a68787b46f7d",
   "metadata": {},
   "outputs": [],
   "source": [
    "from deeptables.models.deeptable import DeepTable, ModelConfig\n",
    "from deeptables.models import deepnets\n",
    "from deeptables.datasets import dsutils\n",
    "from tensorflow import keras\n",
    "from deeptables.models import deeptable\n",
    "from sklearn.model_selection import train_test_split"
   ]
  },
  {
   "cell_type": "code",
   "execution_count": 20,
   "id": "bb62deba-f451-4900-a329-677acdf94344",
   "metadata": {},
   "outputs": [],
   "source": [
    "np.random.seed(SEED)\n",
    "deepFM_data = merged_df.drop([\"userID\", \"placeID\", \"food_rating\", \"service_rating\"], axis=1)\n",
    "for col in deepFM_data.columns:\n",
    "    deepFM_data[col] = deepFM_data[col].astype(\"category\")\n",
    "    \n",
    "X, y = deepFM_data.drop(\"rating\", axis=1), deepFM_data[\"rating\"].astype(\"int64\")\n",
    "x_train, x_tests, y_train, y_test = train_test_split(X, y, test_size=0.2, random_state=42)"
   ]
  },
  {
   "cell_type": "code",
   "execution_count": 21,
   "id": "e1abd1c2-1fee-4db2-adef-8960b7a2e0eb",
   "metadata": {
    "collapsed": true,
    "jupyter": {
     "outputs_hidden": true
    },
    "tags": []
   },
   "outputs": [
    {
     "name": "stdout",
     "output_type": "stream",
     "text": [
      "09-22 10:25:08 I deeptables.m.deeptable.py 335 - X.Shape=(698, 178), y.Shape=(698,), batch_size=64, config=ModelConfig(name='conf-1', nets=['dnn_nets', 'linear', 'fm_nets'], categorical_columns='auto', exclude_columns=[], task='auto', pos_label=None, metrics=['accuracy'], auto_categorize=False, cat_exponent=0.5, cat_remain_numeric=True, auto_encode_label=True, auto_imputation=True, auto_discrete=True, auto_discard_unique=True, apply_gbm_features=False, gbm_params={}, gbm_feature_type='embedding', fixed_embedding_dim=True, embeddings_output_dim=4, embeddings_initializer='uniform', embeddings_regularizer=None, embeddings_activity_regularizer=None, dense_dropout=0, embedding_dropout=0.3, stacking_op='add', output_use_bias=True, apply_class_weight=False, optimizer=<tensorflow.python.keras.optimizer_v2.rmsprop.RMSprop object at 0x7f80de550940>, loss='auto', dnn_params={'dnn_activation': 'relu'}, autoint_params={'num_attention': 3, 'num_heads': 1, 'dropout_rate': 0, 'use_residual': True}, fgcnn_params={'fg_filters': (14, 16), 'fg_heights': (7, 7), 'fg_pool_heights': (2, 2), 'fg_new_feat_filters': (2, 2)}, fibinet_params={'senet_pooling_op': 'mean', 'senet_reduction_ratio': 3, 'bilinear_type': 'field_interaction'}, cross_params={'num_cross_layer': 4}, pnn_params={'outer_product_kernel_type': 'mat'}, afm_params={'attention_factor': 4, 'dropout_rate': 0}, cin_params={'cross_layer_size': (128, 128), 'activation': 'relu', 'use_residual': False, 'use_bias': False, 'direct': False, 'reduce_D': False}, home_dir='../models/tmp', monitor_metric=None, earlystopping_patience=100, earlystopping_mode='auto', gpu_usage_strategy='memory_growth', distribute_strategy=None, var_len_categorical_columns=None)\n",
      "09-22 10:25:08 I deeptables.m.deeptable.py 336 - metrics:['accuracy']\n",
      "09-22 10:25:08 I deeptables.m.preprocessor.py 239 - Transform [X]...\n",
      "09-22 10:25:08 I deeptables.m.preprocessor.py 246 - transform_X taken 0.2265169620513916s\n",
      "09-22 10:25:08 I deeptables.m.preprocessor.py 227 - Transform [y]...\n",
      "09-22 10:25:08 I deeptables.m.preprocessor.py 233 - transform_y taken 0.00047516822814941406s\n",
      "09-22 10:25:08 I deeptables.m.deeptable.py 351 - Training...\n",
      "09-22 10:25:08 I deeptables.m.deeptable.py 726 - Injected a callback [EarlyStopping]. monitor:val_accuracy, patience:100, mode:max\n",
      "09-22 10:25:08 I deeptables.m.deepmodel.py 248 - Building model...\n",
      "WARNING:tensorflow:Entity <bound method MultiColumnEmbedding.call of <deeptables.models.layers.MultiColumnEmbedding object at 0x7f81b4c75550>> could not be transformed and will be executed as-is. Please report this to the AutoGraph team. When filing the bug, set the verbosity to 10 (on Linux, `export AUTOGRAPH_VERBOSITY=10`) and attach the full output. Cause: No module named 'tensorflow_core.estimator'\n",
      "WARNING: Entity <bound method MultiColumnEmbedding.call of <deeptables.models.layers.MultiColumnEmbedding object at 0x7f81b4c75550>> could not be transformed and will be executed as-is. Please report this to the AutoGraph team. When filing the bug, set the verbosity to 10 (on Linux, `export AUTOGRAPH_VERBOSITY=10`) and attach the full output. Cause: No module named 'tensorflow_core.estimator'\n",
      "WARNING:tensorflow:Entity <bound method FM.call of <deeptables.models.layers.FM object at 0x7f7fec36ef60>> could not be transformed and will be executed as-is. Please report this to the AutoGraph team. When filing the bug, set the verbosity to 10 (on Linux, `export AUTOGRAPH_VERBOSITY=10`) and attach the full output. Cause: No module named 'tensorflow_core.estimator'\n",
      "WARNING: Entity <bound method FM.call of <deeptables.models.layers.FM object at 0x7f7fec36ef60>> could not be transformed and will be executed as-is. Please report this to the AutoGraph team. When filing the bug, set the verbosity to 10 (on Linux, `export AUTOGRAPH_VERBOSITY=10`) and attach the full output. Cause: No module named 'tensorflow_core.estimator'\n",
      "09-22 10:25:12 I deeptables.m.deepmodel.py 304 - >>>>>>>>>>>>>>>>>>>>>> Model Desc <<<<<<<<<<<<<<<<<<<<<<< \n",
      "---------------------------------------------------------\n",
      "inputs:\n",
      "---------------------------------------------------------\n",
      "['all_categorical_vars: (142)']\n",
      "---------------------------------------------------------\n",
      "embeddings:\n",
      "---------------------------------------------------------\n",
      "input_dims: [4, 5, 6, 5, 5, 5, 5, 23, 7, 6, 7, 6, 10, 51, 5, 40, 4, 4, 4, 4, 4, 4, 4, 4, 4, 4, 4, 4, 4, 4, 4, 4, 4, 4, 4, 4, 4, 4, 4, 4, 4, 4, 4, 4, 4, 4, 4, 4, 4, 4, 4, 4, 4, 4, 4, 4, 4, 4, 4, 4, 4, 4, 4, 4, 4, 4, 4, 4, 4, 4, 4, 4, 4, 4, 4, 4, 4, 4, 4, 4, 4, 4, 4, 4, 4, 4, 4, 4, 4, 4, 4, 4, 4, 4, 4, 4, 4, 4, 4, 4, 4, 4, 4, 4, 4, 4, 4, 4, 4, 4, 4, 4, 4, 4, 4, 4, 4, 4, 4, 4, 4, 4, 4, 4, 4, 4, 4, 4, 4, 4, 4, 4, 4, 4, 4, 4, 4, 4, 4, 4, 4, 4]\n",
      "output_dims: [4, 4, 4, 4, 4, 4, 4, 4, 4, 4, 4, 4, 4, 4, 4, 4, 4, 4, 4, 4, 4, 4, 4, 4, 4, 4, 4, 4, 4, 4, 4, 4, 4, 4, 4, 4, 4, 4, 4, 4, 4, 4, 4, 4, 4, 4, 4, 4, 4, 4, 4, 4, 4, 4, 4, 4, 4, 4, 4, 4, 4, 4, 4, 4, 4, 4, 4, 4, 4, 4, 4, 4, 4, 4, 4, 4, 4, 4, 4, 4, 4, 4, 4, 4, 4, 4, 4, 4, 4, 4, 4, 4, 4, 4, 4, 4, 4, 4, 4, 4, 4, 4, 4, 4, 4, 4, 4, 4, 4, 4, 4, 4, 4, 4, 4, 4, 4, 4, 4, 4, 4, 4, 4, 4, 4, 4, 4, 4, 4, 4, 4, 4, 4, 4, 4, 4, 4, 4, 4, 4, 4, 4]\n",
      "dropout: 0.3\n",
      "---------------------------------------------------------\n",
      "dense: dropout: 0\n",
      "batch_normalization: False\n",
      "---------------------------------------------------------\n",
      "concat_embed_dense: shape: (None, 568)\n",
      "---------------------------------------------------------\n",
      "nets: ['dnn_nets', 'linear', 'fm_nets']\n",
      "---------------------------------------------------------\n",
      "dnn: input_shape (None, 568), output_shape (None, 64)\n",
      "linear: input_shape (None, 142), output_shape (None, 1)\n",
      "fm: input_shape (None, 142, 4), output_shape (None, 1)\n",
      "---------------------------------------------------------\n",
      "stacking_op: add\n",
      "---------------------------------------------------------\n",
      "output: activation: softmax, output_shape: (None, 3), use_bias: True\n",
      "loss: categorical_crossentropy\n",
      "optimizer: RMSprop\n",
      "---------------------------------------------------------\n",
      "\n",
      "09-22 10:25:12 I deeptables.m.deepmodel.py 98 - training...\n",
      "Epoch 1/100\n",
      "WARNING:tensorflow:Entity <function Function._initialize_uninitialized_variables.<locals>.initialize_variables at 0x7f7fec24ef28> could not be transformed and will be executed as-is. Please report this to the AutoGraph team. When filing the bug, set the verbosity to 10 (on Linux, `export AUTOGRAPH_VERBOSITY=10`) and attach the full output. Cause: No module named 'tensorflow_core.estimator'\n",
      "WARNING: Entity <function Function._initialize_uninitialized_variables.<locals>.initialize_variables at 0x7f7fec24ef28> could not be transformed and will be executed as-is. Please report this to the AutoGraph team. When filing the bug, set the verbosity to 10 (on Linux, `export AUTOGRAPH_VERBOSITY=10`) and attach the full output. Cause: No module named 'tensorflow_core.estimator'\n",
      "9/9 [==============================] - 19s 2s/step - loss: 1.1805 - accuracy: 0.4050 - val_loss: 0.0000e+00 - val_accuracy: 0.0000e+00\n",
      "Epoch 2/100\n",
      "9/9 [==============================] - 0s 30ms/step - loss: 1.0984 - accuracy: 0.4355 - val_loss: 1.0994 - val_accuracy: 0.4214\n",
      "Epoch 3/100\n",
      "9/9 [==============================] - 0s 29ms/step - loss: 1.0984 - accuracy: 0.4409 - val_loss: 1.0938 - val_accuracy: 0.4214\n",
      "Epoch 4/100\n",
      "9/9 [==============================] - 0s 30ms/step - loss: 1.0546 - accuracy: 0.4875 - val_loss: 1.0853 - val_accuracy: 0.4214\n",
      "Epoch 5/100\n",
      "9/9 [==============================] - 0s 29ms/step - loss: 1.0759 - accuracy: 0.5036 - val_loss: 1.0851 - val_accuracy: 0.4143\n",
      "Epoch 6/100\n",
      "9/9 [==============================] - 0s 30ms/step - loss: 1.0378 - accuracy: 0.5197 - val_loss: 1.0896 - val_accuracy: 0.4071\n",
      "Epoch 7/100\n",
      "9/9 [==============================] - 0s 30ms/step - loss: 1.0124 - accuracy: 0.5054 - val_loss: 1.0881 - val_accuracy: 0.4214\n",
      "Epoch 8/100\n",
      "9/9 [==============================] - 0s 31ms/step - loss: 1.0077 - accuracy: 0.4946 - val_loss: 1.0810 - val_accuracy: 0.4214\n",
      "Epoch 9/100\n",
      "9/9 [==============================] - 0s 33ms/step - loss: 0.9805 - accuracy: 0.5573 - val_loss: 1.0805 - val_accuracy: 0.4429\n",
      "Epoch 10/100\n",
      "9/9 [==============================] - 0s 32ms/step - loss: 0.9939 - accuracy: 0.5430 - val_loss: 1.0584 - val_accuracy: 0.4357\n",
      "Epoch 11/100\n",
      "9/9 [==============================] - 0s 31ms/step - loss: 0.9978 - accuracy: 0.5287 - val_loss: 1.0904 - val_accuracy: 0.4714\n",
      "Epoch 12/100\n",
      "9/9 [==============================] - 0s 29ms/step - loss: 0.9742 - accuracy: 0.5323 - val_loss: 1.0478 - val_accuracy: 0.4571\n",
      "Epoch 13/100\n",
      "9/9 [==============================] - 0s 28ms/step - loss: 0.9823 - accuracy: 0.5323 - val_loss: 1.0624 - val_accuracy: 0.4643\n",
      "Epoch 14/100\n",
      "9/9 [==============================] - 0s 28ms/step - loss: 0.9455 - accuracy: 0.5681 - val_loss: 1.0628 - val_accuracy: 0.5071\n",
      "Epoch 15/100\n",
      "9/9 [==============================] - 0s 28ms/step - loss: 0.9456 - accuracy: 0.5591 - val_loss: 1.0530 - val_accuracy: 0.4643\n",
      "Epoch 16/100\n",
      "9/9 [==============================] - 0s 28ms/step - loss: 0.9454 - accuracy: 0.5269 - val_loss: 1.0604 - val_accuracy: 0.4643\n",
      "Epoch 17/100\n",
      "9/9 [==============================] - 0s 28ms/step - loss: 0.9134 - accuracy: 0.5753 - val_loss: 1.0525 - val_accuracy: 0.4929\n",
      "Epoch 18/100\n",
      "9/9 [==============================] - 0s 29ms/step - loss: 0.9296 - accuracy: 0.5753 - val_loss: 1.0573 - val_accuracy: 0.5000\n",
      "Epoch 19/100\n",
      "9/9 [==============================] - 0s 26ms/step - loss: 0.9257 - accuracy: 0.5806 - val_loss: 1.0679 - val_accuracy: 0.5000\n",
      "Epoch 20/100\n",
      "9/9 [==============================] - 0s 26ms/step - loss: 0.9443 - accuracy: 0.5538 - val_loss: 1.0552 - val_accuracy: 0.5071\n",
      "Epoch 21/100\n",
      "9/9 [==============================] - 0s 26ms/step - loss: 0.9161 - accuracy: 0.5645 - val_loss: 1.0544 - val_accuracy: 0.4714\n",
      "Epoch 22/100\n",
      "9/9 [==============================] - 0s 26ms/step - loss: 0.9237 - accuracy: 0.5538 - val_loss: 1.0627 - val_accuracy: 0.5071\n",
      "Epoch 23/100\n",
      "9/9 [==============================] - 0s 25ms/step - loss: 0.9347 - accuracy: 0.5627 - val_loss: 1.0518 - val_accuracy: 0.5071\n",
      "Epoch 24/100\n",
      "9/9 [==============================] - 0s 26ms/step - loss: 0.9340 - accuracy: 0.5789 - val_loss: 1.0475 - val_accuracy: 0.4929\n",
      "Epoch 25/100\n",
      "9/9 [==============================] - 0s 27ms/step - loss: 0.9034 - accuracy: 0.5717 - val_loss: 1.0417 - val_accuracy: 0.5143\n",
      "Epoch 26/100\n",
      "9/9 [==============================] - 0s 25ms/step - loss: 0.9115 - accuracy: 0.5753 - val_loss: 1.0294 - val_accuracy: 0.5143\n",
      "Epoch 27/100\n",
      "9/9 [==============================] - 0s 27ms/step - loss: 0.9087 - accuracy: 0.5699 - val_loss: 1.0483 - val_accuracy: 0.5071\n",
      "Epoch 28/100\n",
      "9/9 [==============================] - 0s 26ms/step - loss: 0.8929 - accuracy: 0.5896 - val_loss: 1.0325 - val_accuracy: 0.4929\n",
      "Epoch 29/100\n",
      "9/9 [==============================] - 0s 25ms/step - loss: 0.8964 - accuracy: 0.5789 - val_loss: 1.0431 - val_accuracy: 0.5071\n",
      "Epoch 30/100\n",
      "9/9 [==============================] - 0s 26ms/step - loss: 0.8866 - accuracy: 0.5699 - val_loss: 1.0350 - val_accuracy: 0.5000\n",
      "Epoch 31/100\n",
      "9/9 [==============================] - 0s 25ms/step - loss: 0.8698 - accuracy: 0.5986 - val_loss: 1.0754 - val_accuracy: 0.5071\n",
      "Epoch 32/100\n",
      "9/9 [==============================] - 0s 26ms/step - loss: 0.8954 - accuracy: 0.5806 - val_loss: 1.0222 - val_accuracy: 0.5000\n",
      "Epoch 33/100\n",
      "9/9 [==============================] - 0s 26ms/step - loss: 0.8695 - accuracy: 0.5806 - val_loss: 1.0784 - val_accuracy: 0.4929\n",
      "Epoch 34/100\n",
      "9/9 [==============================] - 0s 25ms/step - loss: 0.8636 - accuracy: 0.6004 - val_loss: 1.0354 - val_accuracy: 0.5143\n",
      "Epoch 35/100\n",
      "9/9 [==============================] - 0s 26ms/step - loss: 0.8507 - accuracy: 0.6093 - val_loss: 1.0272 - val_accuracy: 0.5214\n",
      "Epoch 36/100\n",
      "9/9 [==============================] - 0s 25ms/step - loss: 0.8464 - accuracy: 0.6004 - val_loss: 1.0539 - val_accuracy: 0.5000\n",
      "Epoch 37/100\n",
      "9/9 [==============================] - 0s 26ms/step - loss: 0.8359 - accuracy: 0.6057 - val_loss: 1.0043 - val_accuracy: 0.5071\n",
      "Epoch 38/100\n",
      "9/9 [==============================] - 0s 25ms/step - loss: 0.8630 - accuracy: 0.5896 - val_loss: 1.0438 - val_accuracy: 0.4857\n",
      "Epoch 39/100\n",
      "9/9 [==============================] - 0s 25ms/step - loss: 0.8193 - accuracy: 0.5914 - val_loss: 1.0404 - val_accuracy: 0.5071\n",
      "Epoch 40/100\n",
      "9/9 [==============================] - 0s 25ms/step - loss: 0.8444 - accuracy: 0.6075 - val_loss: 1.0619 - val_accuracy: 0.4714\n",
      "Epoch 41/100\n",
      "9/9 [==============================] - 0s 25ms/step - loss: 0.7933 - accuracy: 0.6326 - val_loss: 1.0571 - val_accuracy: 0.4929\n",
      "Epoch 42/100\n",
      "9/9 [==============================] - 0s 26ms/step - loss: 0.8340 - accuracy: 0.6237 - val_loss: 1.0973 - val_accuracy: 0.5000\n",
      "Epoch 43/100\n",
      "9/9 [==============================] - 0s 26ms/step - loss: 0.8190 - accuracy: 0.6326 - val_loss: 1.0229 - val_accuracy: 0.5000\n",
      "Epoch 44/100\n",
      "9/9 [==============================] - 0s 25ms/step - loss: 0.8310 - accuracy: 0.6147 - val_loss: 1.0699 - val_accuracy: 0.5143\n",
      "Epoch 45/100\n",
      "9/9 [==============================] - 0s 25ms/step - loss: 0.7838 - accuracy: 0.6344 - val_loss: 1.0649 - val_accuracy: 0.4929\n",
      "Epoch 46/100\n",
      "9/9 [==============================] - 0s 26ms/step - loss: 0.8015 - accuracy: 0.6237 - val_loss: 1.0580 - val_accuracy: 0.4857\n",
      "Epoch 47/100\n",
      "9/9 [==============================] - 0s 25ms/step - loss: 0.7994 - accuracy: 0.6183 - val_loss: 1.0369 - val_accuracy: 0.4571\n",
      "Epoch 48/100\n",
      "9/9 [==============================] - 0s 26ms/step - loss: 0.7942 - accuracy: 0.6308 - val_loss: 0.9931 - val_accuracy: 0.5000\n",
      "Epoch 49/100\n",
      "9/9 [==============================] - 0s 26ms/step - loss: 0.7695 - accuracy: 0.6380 - val_loss: 1.1624 - val_accuracy: 0.4714\n",
      "Epoch 50/100\n",
      "9/9 [==============================] - 0s 26ms/step - loss: 0.7810 - accuracy: 0.6416 - val_loss: 1.1547 - val_accuracy: 0.4714\n",
      "Epoch 51/100\n",
      "9/9 [==============================] - 0s 25ms/step - loss: 0.7775 - accuracy: 0.6487 - val_loss: 1.0789 - val_accuracy: 0.4786\n",
      "Epoch 52/100\n",
      "9/9 [==============================] - 0s 25ms/step - loss: 0.7684 - accuracy: 0.6326 - val_loss: 1.0655 - val_accuracy: 0.5000\n",
      "Epoch 53/100\n",
      "9/9 [==============================] - 0s 25ms/step - loss: 0.7659 - accuracy: 0.6595 - val_loss: 1.0599 - val_accuracy: 0.5143\n",
      "Epoch 54/100\n",
      "9/9 [==============================] - 0s 25ms/step - loss: 0.7581 - accuracy: 0.6523 - val_loss: 1.1108 - val_accuracy: 0.5286\n",
      "Epoch 55/100\n",
      "9/9 [==============================] - 0s 25ms/step - loss: 0.7466 - accuracy: 0.6523 - val_loss: 1.1335 - val_accuracy: 0.5000\n",
      "Epoch 56/100\n",
      "9/9 [==============================] - 0s 25ms/step - loss: 0.7180 - accuracy: 0.6631 - val_loss: 1.2088 - val_accuracy: 0.5143\n",
      "Epoch 57/100\n",
      "9/9 [==============================] - 0s 24ms/step - loss: 0.7410 - accuracy: 0.6667 - val_loss: 1.2921 - val_accuracy: 0.5000\n",
      "Epoch 58/100\n",
      "9/9 [==============================] - 0s 24ms/step - loss: 0.7158 - accuracy: 0.6756 - val_loss: 1.2519 - val_accuracy: 0.5143\n",
      "Epoch 59/100\n",
      "9/9 [==============================] - 0s 26ms/step - loss: 0.7537 - accuracy: 0.6649 - val_loss: 1.1649 - val_accuracy: 0.4786\n",
      "Epoch 60/100\n",
      "9/9 [==============================] - 0s 24ms/step - loss: 0.7008 - accuracy: 0.6720 - val_loss: 1.2743 - val_accuracy: 0.5071\n",
      "Epoch 61/100\n",
      "9/9 [==============================] - 0s 25ms/step - loss: 0.7065 - accuracy: 0.6613 - val_loss: 1.2856 - val_accuracy: 0.5071\n",
      "Epoch 62/100\n",
      "9/9 [==============================] - 0s 25ms/step - loss: 0.7009 - accuracy: 0.6667 - val_loss: 1.0714 - val_accuracy: 0.5000\n",
      "Epoch 63/100\n",
      "9/9 [==============================] - 0s 25ms/step - loss: 0.7006 - accuracy: 0.6631 - val_loss: 1.1350 - val_accuracy: 0.5000\n",
      "Epoch 64/100\n",
      "9/9 [==============================] - 0s 25ms/step - loss: 0.6931 - accuracy: 0.6685 - val_loss: 1.1350 - val_accuracy: 0.5143\n",
      "Epoch 65/100\n",
      "9/9 [==============================] - 0s 26ms/step - loss: 0.7186 - accuracy: 0.6631 - val_loss: 1.1565 - val_accuracy: 0.5000\n",
      "Epoch 66/100\n",
      "9/9 [==============================] - 0s 26ms/step - loss: 0.6875 - accuracy: 0.6971 - val_loss: 1.2849 - val_accuracy: 0.5214\n",
      "Epoch 67/100\n",
      "9/9 [==============================] - 0s 26ms/step - loss: 0.7182 - accuracy: 0.6667 - val_loss: 1.3409 - val_accuracy: 0.5214\n",
      "Epoch 68/100\n",
      "9/9 [==============================] - 0s 24ms/step - loss: 0.6929 - accuracy: 0.6756 - val_loss: 1.3349 - val_accuracy: 0.5000\n",
      "Epoch 69/100\n",
      "9/9 [==============================] - 0s 24ms/step - loss: 0.6853 - accuracy: 0.6667 - val_loss: 1.2355 - val_accuracy: 0.5071\n",
      "Epoch 70/100\n",
      "9/9 [==============================] - 0s 24ms/step - loss: 0.6906 - accuracy: 0.6810 - val_loss: 1.3320 - val_accuracy: 0.5143\n",
      "Epoch 71/100\n",
      "9/9 [==============================] - 0s 24ms/step - loss: 0.6493 - accuracy: 0.6971 - val_loss: 1.2114 - val_accuracy: 0.5286\n",
      "Epoch 72/100\n",
      "9/9 [==============================] - 0s 25ms/step - loss: 0.6674 - accuracy: 0.6846 - val_loss: 1.2553 - val_accuracy: 0.5143\n",
      "Epoch 73/100\n",
      "9/9 [==============================] - 0s 25ms/step - loss: 0.6646 - accuracy: 0.6900 - val_loss: 1.5890 - val_accuracy: 0.5286\n",
      "Epoch 74/100\n",
      "9/9 [==============================] - 0s 24ms/step - loss: 0.6842 - accuracy: 0.6810 - val_loss: 1.4197 - val_accuracy: 0.5286\n",
      "Epoch 75/100\n",
      "9/9 [==============================] - 0s 25ms/step - loss: 0.6611 - accuracy: 0.6882 - val_loss: 1.3023 - val_accuracy: 0.5214\n",
      "Epoch 76/100\n",
      "9/9 [==============================] - 0s 24ms/step - loss: 0.6653 - accuracy: 0.6846 - val_loss: 1.4258 - val_accuracy: 0.5214\n",
      "Epoch 77/100\n",
      "9/9 [==============================] - 0s 25ms/step - loss: 0.6247 - accuracy: 0.7025 - val_loss: 1.6859 - val_accuracy: 0.5000\n",
      "Epoch 78/100\n",
      "9/9 [==============================] - 0s 25ms/step - loss: 0.6481 - accuracy: 0.6810 - val_loss: 1.5096 - val_accuracy: 0.5000\n",
      "Epoch 79/100\n",
      "9/9 [==============================] - 0s 25ms/step - loss: 0.6228 - accuracy: 0.6918 - val_loss: 1.5513 - val_accuracy: 0.5071\n",
      "Epoch 80/100\n",
      "9/9 [==============================] - 0s 25ms/step - loss: 0.6569 - accuracy: 0.6756 - val_loss: 1.2629 - val_accuracy: 0.5143\n",
      "Epoch 81/100\n",
      "9/9 [==============================] - 0s 27ms/step - loss: 0.6361 - accuracy: 0.6864 - val_loss: 1.3169 - val_accuracy: 0.4929\n",
      "Epoch 82/100\n",
      "9/9 [==============================] - 0s 25ms/step - loss: 0.6238 - accuracy: 0.6918 - val_loss: 1.6667 - val_accuracy: 0.4929\n",
      "Epoch 83/100\n",
      "9/9 [==============================] - 0s 24ms/step - loss: 0.6324 - accuracy: 0.6953 - val_loss: 1.4302 - val_accuracy: 0.4786\n",
      "Epoch 84/100\n",
      "9/9 [==============================] - 0s 25ms/step - loss: 0.6382 - accuracy: 0.6918 - val_loss: 1.5839 - val_accuracy: 0.5071\n",
      "Epoch 85/100\n",
      "9/9 [==============================] - 0s 26ms/step - loss: 0.6287 - accuracy: 0.7097 - val_loss: 1.3728 - val_accuracy: 0.4929\n",
      "Epoch 86/100\n",
      "9/9 [==============================] - 0s 25ms/step - loss: 0.6121 - accuracy: 0.7079 - val_loss: 1.3691 - val_accuracy: 0.5000\n",
      "Epoch 87/100\n",
      "9/9 [==============================] - 0s 25ms/step - loss: 0.6184 - accuracy: 0.6918 - val_loss: 1.6989 - val_accuracy: 0.4929\n",
      "Epoch 88/100\n",
      "9/9 [==============================] - 0s 25ms/step - loss: 0.6102 - accuracy: 0.6846 - val_loss: 1.6974 - val_accuracy: 0.4929\n",
      "Epoch 89/100\n",
      "9/9 [==============================] - 0s 24ms/step - loss: 0.6196 - accuracy: 0.6935 - val_loss: 1.5923 - val_accuracy: 0.4929\n",
      "Epoch 90/100\n",
      "9/9 [==============================] - 0s 24ms/step - loss: 0.6051 - accuracy: 0.7043 - val_loss: 1.5642 - val_accuracy: 0.5143\n",
      "Epoch 91/100\n",
      "9/9 [==============================] - 0s 24ms/step - loss: 0.5977 - accuracy: 0.7061 - val_loss: 1.6464 - val_accuracy: 0.5143\n",
      "Epoch 92/100\n",
      "9/9 [==============================] - 0s 25ms/step - loss: 0.6201 - accuracy: 0.6971 - val_loss: 1.5308 - val_accuracy: 0.5071\n",
      "Epoch 93/100\n",
      "9/9 [==============================] - 0s 25ms/step - loss: 0.5807 - accuracy: 0.7115 - val_loss: 1.5230 - val_accuracy: 0.5071\n",
      "Epoch 94/100\n",
      "9/9 [==============================] - 0s 24ms/step - loss: 0.6036 - accuracy: 0.7007 - val_loss: 1.5072 - val_accuracy: 0.5000\n",
      "Epoch 95/100\n",
      "9/9 [==============================] - 0s 26ms/step - loss: 0.5703 - accuracy: 0.7151 - val_loss: 1.8353 - val_accuracy: 0.5000\n",
      "Epoch 96/100\n",
      "9/9 [==============================] - 0s 26ms/step - loss: 0.5892 - accuracy: 0.6989 - val_loss: 1.5370 - val_accuracy: 0.5000\n",
      "Epoch 97/100\n",
      "9/9 [==============================] - 0s 26ms/step - loss: 0.5882 - accuracy: 0.7061 - val_loss: 1.7025 - val_accuracy: 0.4929\n",
      "Epoch 98/100\n",
      "9/9 [==============================] - 0s 24ms/step - loss: 0.5902 - accuracy: 0.7079 - val_loss: 1.9591 - val_accuracy: 0.5000\n",
      "Epoch 99/100\n",
      "9/9 [==============================] - 0s 25ms/step - loss: 0.6085 - accuracy: 0.6953 - val_loss: 1.7544 - val_accuracy: 0.4929\n",
      "Epoch 100/100\n",
      "9/9 [==============================] - 0s 25ms/step - loss: 0.6114 - accuracy: 0.7061 - val_loss: 1.9175 - val_accuracy: 0.4929\n",
      "09-22 10:25:55 I deeptables.m.deepmodel.py 134 - Training finished.\n",
      "09-22 10:25:55 I deeptables.m.deeptable.py 367 - Training finished.\n",
      "09-22 10:25:55 I deeptables.m.deeptable.py 679 - Model has been saved to:../models/tmp/dt_20220922102508_dnn_nets_linear_fm_nets/dnn_nets+linear+fm_nets.h5\n",
      "Training of DeepFM\n",
      "47.11776328086853\n"
     ]
    }
   ],
   "source": [
    "test_results = []\n",
    "net = deepnets.DeepFM\n",
    "conf = ModelConfig(\n",
    "    nets=net, \n",
    "    optimizer=keras.optimizers.RMSprop(),\n",
    "    auto_discrete=True,\n",
    "    home_dir = r'../models/tmp',\n",
    "    earlystopping_patience=100,\n",
    "    dnn_params={\n",
    "        'dnn_activation': 'relu',\n",
    "    },\n",
    ")\n",
    "\n",
    "dt = deeptable.DeepTable(config=conf)\n",
    "start = time.time()\n",
    "model, history = dt.fit(x_train, y_train, epochs=100, batch_size=64)\n",
    "end = time.time()\n",
    "print('Training of DeepFM')\n",
    "print(end - start)"
   ]
  },
  {
   "cell_type": "code",
   "execution_count": 22,
   "id": "a851b52a-7248-49f7-b346-1202fa8ce561",
   "metadata": {},
   "outputs": [
    {
     "name": "stdout",
     "output_type": "stream",
     "text": [
      "09-22 10:25:55 I deeptables.m.preprocessor.py 239 - Transform [X]...\n",
      "09-22 10:25:55 I deeptables.m.preprocessor.py 246 - transform_X taken 0.18186092376708984s\n",
      "09-22 10:25:55 I deeptables.m.preprocessor.py 227 - Transform [y]...\n",
      "09-22 10:25:55 I deeptables.m.preprocessor.py 233 - transform_y taken 0.0002593994140625s\n",
      "09-22 10:25:55 I deeptables.m.deepmodel.py 169 - Performing evaluation...\n"
     ]
    },
    {
     "data": {
      "text/plain": [
       "{'loss': 1.6189009836741857, 'accuracy': 0.50285715}"
      ]
     },
     "execution_count": 22,
     "metadata": {},
     "output_type": "execute_result"
    }
   ],
   "source": [
    "score = dt.evaluate(x_tests, y_test, batch_size=64, verbose=0)\n",
    "score"
   ]
  },
  {
   "cell_type": "markdown",
   "id": "877f7860-189f-4f72-8d5f-72d3d9c5a3ca",
   "metadata": {},
   "source": [
    "### 2.2. Similarity matrix"
   ]
  },
  {
   "cell_type": "code",
   "execution_count": 23,
   "id": "93e03c67-f14f-4e28-a71c-f777abdbafd1",
   "metadata": {},
   "outputs": [],
   "source": [
    "from sklearn.metrics.pairwise import cosine_similarity\n",
    "\n",
    "\n",
    "def make_similarity_matrix(users_df, rests_df):\n",
    "    users_food_pref_df = users_df.drop(['userID', '_merge_key'], axis=1)\n",
    "    rests_food_pref_df = rests_df.drop(['placeID', '_merge_key'], axis=1)\n",
    "    users_food_pref_df = users_food_pref_df[rests_food_pref_df.columns]\n",
    "\n",
    "    sim_matrix = cosine_similarity(users_food_pref_df, rests_food_pref_df)\n",
    "    sim_matrix = np.where(sim_matrix < 0.33, 1, sim_matrix)\n",
    "    sim_matrix = np.where(sim_matrix >= 0.66, 3, sim_matrix)\n",
    "    sim_matrix = np.where((sim_matrix >= 0.33) & (sim_matrix < 0.66), 2, sim_matrix)\n",
    "    return sim_matrix"
   ]
  },
  {
   "cell_type": "code",
   "execution_count": 25,
   "id": "2f7a6d4a-5dad-4007-938b-4ceff7ecbf32",
   "metadata": {
    "collapsed": true,
    "jupyter": {
     "outputs_hidden": true
    },
    "tags": []
   },
   "outputs": [
    {
     "name": "stdout",
     "output_type": "stream",
     "text": [
      "09-22 10:29:53 I deeptables.m.deeptable.py 661 - Perform prediction...\n",
      "09-22 10:29:53 I deeptables.m.preprocessor.py 239 - Transform [X]...\n",
      "09-22 10:29:55 I deeptables.m.preprocessor.py 246 - transform_X taken 1.55930757522583s\n",
      "09-22 10:29:55 I deeptables.m.deepmodel.py 142 - Performing predictions...\n",
      "09-22 10:29:56 I deeptables.m.deeptable.py 540 - predict_proba taken 2.791934013366699s\n",
      "09-22 10:29:56 I deeptables.m.deeptable.py 575 - Reverse indicators to labels.\n",
      "09-22 10:29:56 I deeptables.m.deeptable.py 661 - Perform prediction...\n",
      "09-22 10:29:56 I deeptables.m.preprocessor.py 239 - Transform [X]...\n",
      "09-22 10:29:58 I deeptables.m.preprocessor.py 246 - transform_X taken 1.5063838958740234s\n",
      "09-22 10:29:58 I deeptables.m.deepmodel.py 142 - Performing predictions...\n",
      "09-22 10:29:58 I deeptables.m.deeptable.py 540 - predict_proba taken 2.024373769760132s\n",
      "09-22 10:29:58 I deeptables.m.deeptable.py 575 - Reverse indicators to labels.\n",
      "09-22 10:29:59 I deeptables.m.deeptable.py 661 - Perform prediction...\n",
      "09-22 10:29:59 I deeptables.m.preprocessor.py 239 - Transform [X]...\n",
      "09-22 10:30:00 I deeptables.m.preprocessor.py 246 - transform_X taken 1.5709612369537354s\n",
      "09-22 10:30:00 I deeptables.m.deepmodel.py 142 - Performing predictions...\n",
      "09-22 10:30:01 I deeptables.m.deeptable.py 540 - predict_proba taken 2.086932420730591s\n",
      "09-22 10:30:01 I deeptables.m.deeptable.py 575 - Reverse indicators to labels.\n",
      "09-22 10:30:01 I deeptables.m.deeptable.py 661 - Perform prediction...\n",
      "09-22 10:30:01 I deeptables.m.preprocessor.py 239 - Transform [X]...\n",
      "09-22 10:30:03 I deeptables.m.preprocessor.py 246 - transform_X taken 1.5414445400238037s\n",
      "09-22 10:30:03 I deeptables.m.deepmodel.py 142 - Performing predictions...\n",
      "09-22 10:30:03 I deeptables.m.deeptable.py 540 - predict_proba taken 2.045236110687256s\n",
      "09-22 10:30:03 I deeptables.m.deeptable.py 575 - Reverse indicators to labels.\n",
      "09-22 10:30:04 I deeptables.m.deeptable.py 661 - Perform prediction...\n",
      "09-22 10:30:04 I deeptables.m.preprocessor.py 239 - Transform [X]...\n",
      "09-22 10:30:05 I deeptables.m.preprocessor.py 246 - transform_X taken 1.550478219985962s\n",
      "09-22 10:30:05 I deeptables.m.deepmodel.py 142 - Performing predictions...\n",
      "09-22 10:30:06 I deeptables.m.deeptable.py 540 - predict_proba taken 2.0377399921417236s\n",
      "09-22 10:30:06 I deeptables.m.deeptable.py 575 - Reverse indicators to labels.\n",
      "09-22 10:30:06 I deeptables.m.deeptable.py 661 - Perform prediction...\n",
      "09-22 10:30:06 I deeptables.m.preprocessor.py 239 - Transform [X]...\n",
      "09-22 10:30:08 I deeptables.m.preprocessor.py 246 - transform_X taken 1.5645105838775635s\n",
      "09-22 10:30:08 I deeptables.m.deepmodel.py 142 - Performing predictions...\n",
      "09-22 10:30:08 I deeptables.m.deeptable.py 540 - predict_proba taken 2.106537342071533s\n",
      "09-22 10:30:08 I deeptables.m.deeptable.py 575 - Reverse indicators to labels.\n",
      "09-22 10:30:08 I deeptables.m.deeptable.py 661 - Perform prediction...\n",
      "09-22 10:30:08 I deeptables.m.preprocessor.py 239 - Transform [X]...\n",
      "09-22 10:30:10 I deeptables.m.preprocessor.py 246 - transform_X taken 1.5433681011199951s\n",
      "09-22 10:30:10 I deeptables.m.deepmodel.py 142 - Performing predictions...\n",
      "09-22 10:30:10 I deeptables.m.deeptable.py 540 - predict_proba taken 2.035639524459839s\n",
      "09-22 10:30:10 I deeptables.m.deeptable.py 575 - Reverse indicators to labels.\n",
      "09-22 10:30:11 I deeptables.m.deeptable.py 661 - Perform prediction...\n",
      "09-22 10:30:11 I deeptables.m.preprocessor.py 239 - Transform [X]...\n",
      "09-22 10:30:12 I deeptables.m.preprocessor.py 246 - transform_X taken 1.549844741821289s\n",
      "09-22 10:30:12 I deeptables.m.deepmodel.py 142 - Performing predictions...\n",
      "09-22 10:30:13 I deeptables.m.deeptable.py 540 - predict_proba taken 2.059993028640747s\n",
      "09-22 10:30:13 I deeptables.m.deeptable.py 575 - Reverse indicators to labels.\n",
      "09-22 10:30:13 I deeptables.m.deeptable.py 661 - Perform prediction...\n",
      "09-22 10:30:13 I deeptables.m.preprocessor.py 239 - Transform [X]...\n",
      "09-22 10:30:15 I deeptables.m.preprocessor.py 246 - transform_X taken 1.5500590801239014s\n",
      "09-22 10:30:15 I deeptables.m.deepmodel.py 142 - Performing predictions...\n",
      "09-22 10:30:15 I deeptables.m.deeptable.py 540 - predict_proba taken 2.0709705352783203s\n",
      "09-22 10:30:15 I deeptables.m.deeptable.py 575 - Reverse indicators to labels.\n",
      "09-22 10:30:16 I deeptables.m.deeptable.py 661 - Perform prediction...\n",
      "09-22 10:30:16 I deeptables.m.preprocessor.py 239 - Transform [X]...\n",
      "09-22 10:30:17 I deeptables.m.preprocessor.py 246 - transform_X taken 1.5499556064605713s\n",
      "09-22 10:30:17 I deeptables.m.deepmodel.py 142 - Performing predictions...\n",
      "09-22 10:30:18 I deeptables.m.deeptable.py 540 - predict_proba taken 2.0343003273010254s\n",
      "09-22 10:30:18 I deeptables.m.deeptable.py 575 - Reverse indicators to labels.\n"
     ]
    }
   ],
   "source": [
    "for i in range(1, CNT+1):\n",
    "    syn_users_df = pd.read_csv(os.path.join('../..', f\"./data_generators/rest_data/syn_users_df{i}.csv\"))\n",
    "    if \"Unnamed: 0\" in syn_users_df.columns:\n",
    "        syn_users_df=syn_users_df.drop(\"Unnamed: 0\", axis=1)\n",
    "    if \"_merge_key\" in syn_users_df.columns:\n",
    "        syn_users_df=syn_users_df.drop(\"_merge_key\", axis=1)\n",
    "        \n",
    "    syn_items_df = pd.read_csv(os.path.join('../..', f\"./data_generators/rest_data/syn_rests_df{i}.csv\"))\n",
    "    if \"Unnamed: 0\" in syn_items_df.columns:\n",
    "        syn_items_df=syn_items_df.drop(\"Unnamed: 0\", axis=1)\n",
    "    if \"_merge_key\" in syn_items_df.columns:\n",
    "        syn_items_df=syn_items_df.drop(\"_merge_key\", axis=1)\n",
    "        \n",
    "    syn_users_df[\"_merge_key\"] = syn_items_df[\"_merge_key\"] = 1\n",
    "    syn_merged_df = pd.merge(syn_users_df, syn_items_df, on=\"_merge_key\")\n",
    "    syn_merged_df = syn_merged_df.drop([\"_merge_key\"], axis=1)\n",
    "\n",
    "    deepfm_syn_input = syn_merged_df.copy()\n",
    "    for col in deepfm_syn_input.columns:\n",
    "        deepfm_syn_input[col] = deepfm_syn_input[col].astype(\"category\")\n",
    "        \n",
    "    df_resp = deepfm_syn_input.copy()\n",
    "    resp = dt.predict(df_resp.drop([\"userID\", \"placeID\"], axis=1))\n",
    "    \n",
    "    df_resp['rating'] = resp\n",
    "    df_resp = df_resp[[\"userID\", \"placeID\", \"rating\"]].rename(columns={\"userID\": \"user_id\", \"placeID\": \"item_id\"})\n",
    "    \n",
    "    sim_matrix=make_similarity_matrix(syn_users_df, syn_items_df)\n",
    "    \n",
    "    df_resp.to_csv(os.path.join('../..', f\"./synthetic_data/rest_data/matrix{i}.csv\"), index=False)\n",
    "    pd.DataFrame(sim_matrix).to_csv(os.path.join('../..', f\"./synthetic_data/rest_data/sim{i}.csv\"), index=False)"
   ]
  },
  {
   "cell_type": "markdown",
   "id": "08be71a7-8e89-4440-b732-1681385d764a",
   "metadata": {},
   "source": [
    "### 2.3. Sparse case"
   ]
  },
  {
   "cell_type": "code",
   "execution_count": 30,
   "id": "8a0617a3-6605-4400-8538-fe451d13010a",
   "metadata": {},
   "outputs": [],
   "source": [
    "result = pd.DataFrame()\n",
    "\n",
    "np.random.seed(SEED)\n",
    "torch.manual_seed(SEED)\n",
    "torch.cuda.manual_seed(SEED)"
   ]
  },
  {
   "cell_type": "code",
   "execution_count": null,
   "id": "467abed7-c23f-43e7-9fd0-d1c744506c14",
   "metadata": {},
   "outputs": [],
   "source": [
    "for sample in SAMPLE_SIZE:\n",
    "    TRAIN, TEST = [], []\n",
    "    for i in range(1, CNT+1):\n",
    "        syn_data = pd.read_csv(os.path.join('../..', f\"./synthetic_data/rest_data/matrix{i}.csv\"))\n",
    "        syn_data.rating = syn_data.rating + 1\n",
    "        to_dataset = lambda x: Dataset(x, \n",
    "                  syn_data.user_id.unique().shape[0], \n",
    "                  syn_data.item_id.unique().shape[0], \n",
    "                  user_based=True,\n",
    "                  long_matrix=True,\n",
    "                  user_column=\"user_id\", item_column=\"item_id\", rating_column=\"rating\")\n",
    "        \n",
    "        data_sparse = syn_data.copy()\n",
    "        data_sparse = data_sparse.sample(frac=frac)\n",
    "        data_sparse = data_sparse.sample(frac=sample)\n",
    "        data_train = data_sparse.sample(frac=0.8)\n",
    "        data_test = data_sparse.drop(data_train.index)\n",
    "\n",
    "        TRAIN.append(data_train)\n",
    "        TEST.append(data_test)\n",
    "    \n",
    "    TRAIN = list(map(to_dataset, TRAIN))\n",
    "    TEST = list(map(to_dataset, TEST))\n",
    "    \n",
    "    print(\"SVD\")\n",
    "    print(\"-------------------------------------\")\n",
    "    svd_result = svd(TRAIN, TEST, sample, cnt=CNT)\n",
    "    print(\"NMF\")\n",
    "    print(\"-------------------------------------\")\n",
    "    nmf_result = nmf(TRAIN, TEST, sample, cnt=CNT)\n",
    "    print(\"kNN\")\n",
    "    print(\"-------------------------------------\")\n",
    "    knn_result = knn(TRAIN, TEST, sample, cnt=CNT)\n",
    "    print(\"AutoRec\")\n",
    "    print(\"-------------------------------------\")\n",
    "    autorec_result = autorec(TRAIN, TEST, syn_data, sample, cnt=CNT)\n",
    "    \n",
    "    result = result.append(svd_result)\n",
    "    result = result.append(nmf_result)\n",
    "    result = result.append(knn_result)\n",
    "    result = result.append(autorec_result)"
   ]
  },
  {
   "cell_type": "code",
   "execution_count": 35,
   "id": "f615c903-bac3-4da1-8b74-58f859e2bead",
   "metadata": {},
   "outputs": [],
   "source": [
    "syn_sparse = result.copy()"
   ]
  },
  {
   "cell_type": "markdown",
   "id": "7c3145c3",
   "metadata": {},
   "source": [
    "## 3. Results"
   ]
  },
  {
   "cell_type": "code",
   "execution_count": 5,
   "id": "bea201e5",
   "metadata": {},
   "outputs": [],
   "source": [
    "from modules import boxplot\n",
    "names = {'SVD': 'svd', 'AutoRec': 'autorec', 'NMF': 'nmf', 'kNN': 'knn'}"
   ]
  },
  {
   "cell_type": "code",
   "execution_count": 7,
   "id": "bdf00d0c",
   "metadata": {},
   "outputs": [],
   "source": [
    "real_sparse = real_sparse.model_name.apply(lambda x: names[x])\n",
    "syn_sparse = syn_sparse.apply(lambda x: names[x])                                                              "
   ]
  },
  {
   "cell_type": "code",
   "execution_count": 9,
   "id": "a20e0af2",
   "metadata": {},
   "outputs": [
    {
     "data": {
      "image/png": "[encoded data removed]",
      "text/plain": [
       "<Figure size 1080x720 with 1 Axes>"
      ]
     },
     "metadata": {
      "needs_background": "light"
     },
     "output_type": "display_data"
    }
   ],
   "source": [
    "boxplot(real_sparse[real_sparse.sample_size == 0.5], syn_sparse[syn_sparse.sample_size == 0.5], column='rmse', legend_loc='upper left')"
   ]
  },
  {
   "cell_type": "code",
   "execution_count": 25,
   "id": "2611d3dd",
   "metadata": {},
   "outputs": [
    {
     "data": {
      "image/png": "[encoded data removed]",
      "text/plain": [
       "<Figure size 1080x720 with 1 Axes>"
      ]
     },
     "metadata": {
      "needs_background": "light"
     },
     "output_type": "display_data"
    }
   ],
   "source": [
    "boxplot(real_sparse[real_sparse.sample_size == 0.5], syn_sparse[syn_sparse.sample_size == 0.5], column='ndcg', legend_loc='upper right')"
   ]
  },
  {
   "cell_type": "code",
   "execution_count": null,
   "id": "420d816a",
   "metadata": {},
   "outputs": [],
   "source": []
  }
 ],
 "metadata": {
  "kernelspec": {
   "display_name": "Python 3",
   "language": "python",
   "name": "python3"
  },
  "language_info": {
   "codemirror_mode": {
    "name": "ipython",
    "version": 3
   },
   "file_extension": ".py",
   "mimetype": "text/x-python",
   "name": "python",
   "nbconvert_exporter": "python",
   "pygments_lexer": "ipython3",
   "version": "3.6.13"
  }
 },
 "nbformat": 4,
 "nbformat_minor": 5
}
