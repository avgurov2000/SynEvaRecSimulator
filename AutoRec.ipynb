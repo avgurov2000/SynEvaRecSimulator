{
 "cells": [
  {
   "cell_type": "markdown",
   "id": "8d94dc18-3f17-4e7d-ac05-49221d9fc5cd",
   "metadata": {},
   "source": [
    "## An example of the operation of model AutoRec"
   ]
  },
  {
   "cell_type": "code",
   "execution_count": null,
   "id": "7a2cd7c7-70f4-415b-af95-7e35c18dca7f",
   "metadata": {},
   "outputs": [],
   "source": [
    "import pandas as pd\n",
    "import numpy as np\n",
    "import torch \n",
    "from torch.utils import data\n",
    "from torch import nn\n",
    "\n",
    "from typing import List, Tuple, Dict, Union, Optional\n",
    "from typing import Iterable"
   ]
  },
  {
   "cell_type": "code",
   "execution_count": null,
   "id": "424f45de-8c97-4b76-8a4e-dbc6825600b4",
   "metadata": {},
   "outputs": [],
   "source": [
    "from models import AutoRec, Model\n",
    "from load_data import get_validation_data\n",
    "from utils import Dataset"
   ]
  },
  {
   "cell_type": "markdown",
   "id": "3c2ff63a-80b7-413b-8306-94468ffd7415",
   "metadata": {},
   "source": [
    "### Load validation data"
   ]
  },
  {
   "cell_type": "code",
   "execution_count": 3,
   "id": "eda0abc4-bb58-416d-a203-5cbf4a1e8fcd",
   "metadata": {},
   "outputs": [
    {
     "data": {
      "text/html": [
       "<div>\n",
       "<style scoped>\n",
       "    .dataframe tbody tr th:only-of-type {\n",
       "        vertical-align: middle;\n",
       "    }\n",
       "\n",
       "    .dataframe tbody tr th {\n",
       "        vertical-align: top;\n",
       "    }\n",
       "\n",
       "    .dataframe thead th {\n",
       "        text-align: right;\n",
       "    }\n",
       "</style>\n",
       "<table border=\"1\" class=\"dataframe\">\n",
       "  <thead>\n",
       "    <tr style=\"text-align: right;\">\n",
       "      <th></th>\n",
       "      <th>user_0</th>\n",
       "      <th>user_1</th>\n",
       "      <th>user_2</th>\n",
       "      <th>user_id</th>\n",
       "      <th>item_0</th>\n",
       "      <th>item_1</th>\n",
       "      <th>item_2</th>\n",
       "      <th>item_id</th>\n",
       "      <th>rating</th>\n",
       "    </tr>\n",
       "  </thead>\n",
       "  <tbody>\n",
       "    <tr>\n",
       "      <th>0</th>\n",
       "      <td>-0.189219</td>\n",
       "      <td>0.688799</td>\n",
       "      <td>0.496749</td>\n",
       "      <td>0</td>\n",
       "      <td>-7.189302</td>\n",
       "      <td>-17.358819</td>\n",
       "      <td>-8.191424</td>\n",
       "      <td>0</td>\n",
       "      <td>3.0</td>\n",
       "    </tr>\n",
       "    <tr>\n",
       "      <th>1</th>\n",
       "      <td>-0.189219</td>\n",
       "      <td>0.688799</td>\n",
       "      <td>0.496749</td>\n",
       "      <td>0</td>\n",
       "      <td>0.749574</td>\n",
       "      <td>0.957448</td>\n",
       "      <td>2.106965</td>\n",
       "      <td>1</td>\n",
       "      <td>9.0</td>\n",
       "    </tr>\n",
       "    <tr>\n",
       "      <th>2</th>\n",
       "      <td>-0.189219</td>\n",
       "      <td>0.688799</td>\n",
       "      <td>0.496749</td>\n",
       "      <td>0</td>\n",
       "      <td>-3.443982</td>\n",
       "      <td>-0.042470</td>\n",
       "      <td>-1.148656</td>\n",
       "      <td>2</td>\n",
       "      <td>6.0</td>\n",
       "    </tr>\n",
       "    <tr>\n",
       "      <th>3</th>\n",
       "      <td>-0.189219</td>\n",
       "      <td>0.688799</td>\n",
       "      <td>0.496749</td>\n",
       "      <td>0</td>\n",
       "      <td>-1.101991</td>\n",
       "      <td>-0.047565</td>\n",
       "      <td>-0.453863</td>\n",
       "      <td>3</td>\n",
       "      <td>6.0</td>\n",
       "    </tr>\n",
       "    <tr>\n",
       "      <th>4</th>\n",
       "      <td>-0.189219</td>\n",
       "      <td>0.688799</td>\n",
       "      <td>0.496749</td>\n",
       "      <td>0</td>\n",
       "      <td>7.837388</td>\n",
       "      <td>18.125961</td>\n",
       "      <td>19.356996</td>\n",
       "      <td>4</td>\n",
       "      <td>9.0</td>\n",
       "    </tr>\n",
       "    <tr>\n",
       "      <th>...</th>\n",
       "      <td>...</td>\n",
       "      <td>...</td>\n",
       "      <td>...</td>\n",
       "      <td>...</td>\n",
       "      <td>...</td>\n",
       "      <td>...</td>\n",
       "      <td>...</td>\n",
       "      <td>...</td>\n",
       "      <td>...</td>\n",
       "    </tr>\n",
       "    <tr>\n",
       "      <th>24995</th>\n",
       "      <td>-0.401447</td>\n",
       "      <td>-0.463426</td>\n",
       "      <td>-1.824159</td>\n",
       "      <td>249</td>\n",
       "      <td>-1.780516</td>\n",
       "      <td>-3.164613</td>\n",
       "      <td>0.289502</td>\n",
       "      <td>95</td>\n",
       "      <td>7.0</td>\n",
       "    </tr>\n",
       "    <tr>\n",
       "      <th>24996</th>\n",
       "      <td>-0.401447</td>\n",
       "      <td>-0.463426</td>\n",
       "      <td>-1.824159</td>\n",
       "      <td>249</td>\n",
       "      <td>-1.835749</td>\n",
       "      <td>-1.362072</td>\n",
       "      <td>-0.549780</td>\n",
       "      <td>96</td>\n",
       "      <td>8.0</td>\n",
       "    </tr>\n",
       "    <tr>\n",
       "      <th>24997</th>\n",
       "      <td>-0.401447</td>\n",
       "      <td>-0.463426</td>\n",
       "      <td>-1.824159</td>\n",
       "      <td>249</td>\n",
       "      <td>-0.900141</td>\n",
       "      <td>-0.433615</td>\n",
       "      <td>0.459035</td>\n",
       "      <td>97</td>\n",
       "      <td>6.0</td>\n",
       "    </tr>\n",
       "    <tr>\n",
       "      <th>24998</th>\n",
       "      <td>-0.401447</td>\n",
       "      <td>-0.463426</td>\n",
       "      <td>-1.824159</td>\n",
       "      <td>249</td>\n",
       "      <td>-1.414088</td>\n",
       "      <td>2.804230</td>\n",
       "      <td>-37.497444</td>\n",
       "      <td>98</td>\n",
       "      <td>10.0</td>\n",
       "    </tr>\n",
       "    <tr>\n",
       "      <th>24999</th>\n",
       "      <td>-0.401447</td>\n",
       "      <td>-0.463426</td>\n",
       "      <td>-1.824159</td>\n",
       "      <td>249</td>\n",
       "      <td>0.676129</td>\n",
       "      <td>5.459118</td>\n",
       "      <td>0.850149</td>\n",
       "      <td>99</td>\n",
       "      <td>5.0</td>\n",
       "    </tr>\n",
       "  </tbody>\n",
       "</table>\n",
       "<p>25000 rows × 9 columns</p>\n",
       "</div>"
      ],
      "text/plain": [
       "         user_0    user_1    user_2  user_id    item_0     item_1     item_2  \\\n",
       "0     -0.189219  0.688799  0.496749        0 -7.189302 -17.358819  -8.191424   \n",
       "1     -0.189219  0.688799  0.496749        0  0.749574   0.957448   2.106965   \n",
       "2     -0.189219  0.688799  0.496749        0 -3.443982  -0.042470  -1.148656   \n",
       "3     -0.189219  0.688799  0.496749        0 -1.101991  -0.047565  -0.453863   \n",
       "4     -0.189219  0.688799  0.496749        0  7.837388  18.125961  19.356996   \n",
       "...         ...       ...       ...      ...       ...        ...        ...   \n",
       "24995 -0.401447 -0.463426 -1.824159      249 -1.780516  -3.164613   0.289502   \n",
       "24996 -0.401447 -0.463426 -1.824159      249 -1.835749  -1.362072  -0.549780   \n",
       "24997 -0.401447 -0.463426 -1.824159      249 -0.900141  -0.433615   0.459035   \n",
       "24998 -0.401447 -0.463426 -1.824159      249 -1.414088   2.804230 -37.497444   \n",
       "24999 -0.401447 -0.463426 -1.824159      249  0.676129   5.459118   0.850149   \n",
       "\n",
       "       item_id  rating  \n",
       "0            0     3.0  \n",
       "1            1     9.0  \n",
       "2            2     6.0  \n",
       "3            3     6.0  \n",
       "4            4     9.0  \n",
       "...        ...     ...  \n",
       "24995       95     7.0  \n",
       "24996       96     8.0  \n",
       "24997       97     6.0  \n",
       "24998       98    10.0  \n",
       "24999       99     5.0  \n",
       "\n",
       "[25000 rows x 9 columns]"
      ]
     },
     "execution_count": 3,
     "metadata": {},
     "output_type": "execute_result"
    }
   ],
   "source": [
    "validation_data, heristic = get_validation_data()\n",
    "validation_data"
   ]
  },
  {
   "cell_type": "code",
   "execution_count": 4,
   "id": "d4289e8e-4d21-4ce8-a32a-9df33cd536cc",
   "metadata": {},
   "outputs": [
    {
     "data": {
      "text/html": [
       "<div>\n",
       "<style scoped>\n",
       "    .dataframe tbody tr th:only-of-type {\n",
       "        vertical-align: middle;\n",
       "    }\n",
       "\n",
       "    .dataframe tbody tr th {\n",
       "        vertical-align: top;\n",
       "    }\n",
       "\n",
       "    .dataframe thead th {\n",
       "        text-align: right;\n",
       "    }\n",
       "</style>\n",
       "<table border=\"1\" class=\"dataframe\">\n",
       "  <thead>\n",
       "    <tr style=\"text-align: right;\">\n",
       "      <th></th>\n",
       "      <th>user_id</th>\n",
       "      <th>item_id</th>\n",
       "      <th>rating</th>\n",
       "    </tr>\n",
       "  </thead>\n",
       "  <tbody>\n",
       "    <tr>\n",
       "      <th>0</th>\n",
       "      <td>0</td>\n",
       "      <td>0</td>\n",
       "      <td>9.0</td>\n",
       "    </tr>\n",
       "    <tr>\n",
       "      <th>1</th>\n",
       "      <td>0</td>\n",
       "      <td>1</td>\n",
       "      <td>8.0</td>\n",
       "    </tr>\n",
       "    <tr>\n",
       "      <th>2</th>\n",
       "      <td>0</td>\n",
       "      <td>2</td>\n",
       "      <td>8.0</td>\n",
       "    </tr>\n",
       "    <tr>\n",
       "      <th>3</th>\n",
       "      <td>0</td>\n",
       "      <td>3</td>\n",
       "      <td>8.0</td>\n",
       "    </tr>\n",
       "    <tr>\n",
       "      <th>4</th>\n",
       "      <td>0</td>\n",
       "      <td>4</td>\n",
       "      <td>6.0</td>\n",
       "    </tr>\n",
       "  </tbody>\n",
       "</table>\n",
       "</div>"
      ],
      "text/plain": [
       "   user_id  item_id  rating\n",
       "0        0        0     9.0\n",
       "1        0        1     8.0\n",
       "2        0        2     8.0\n",
       "3        0        3     8.0\n",
       "4        0        4     6.0"
      ]
     },
     "execution_count": 4,
     "metadata": {},
     "output_type": "execute_result"
    }
   ],
   "source": [
    "heristic.head()"
   ]
  },
  {
   "cell_type": "markdown",
   "id": "f0a94ae3-3993-43a6-9010-85d1bfa9a1d3",
   "metadata": {},
   "source": [
    "### Create validation torch datasets and train/test split "
   ]
  },
  {
   "cell_type": "code",
   "execution_count": 5,
   "id": "3692b560-6d48-4c1f-8134-1d749a5b1bde",
   "metadata": {},
   "outputs": [],
   "source": [
    "data_sparse = validation_data #validation_data.sample(frac=0.05)\n",
    "data_sparse = data_sparse.sample(frac=0.1)\n",
    "data_train = data_sparse.sample(frac=0.8)\n",
    "data_test = data_sparse.drop(data_train.index)"
   ]
  },
  {
   "cell_type": "code",
   "execution_count": 6,
   "id": "ded04d5e-e05d-4bdc-9ee2-3d013244251c",
   "metadata": {},
   "outputs": [],
   "source": [
    "dataset = Dataset(data_sparse, \n",
    "                  validation_data.user_id.unique().shape[0], \n",
    "                  validation_data.item_id.unique().shape[0], \n",
    "                  user_based=True,\n",
    "                  long_matrix=True,\n",
    "                  user_column=\"user_id\", item_column=\"item_id\", rating_column=\"rating\")\n",
    "\n",
    "dataset_train = Dataset(data_train, \n",
    "                  validation_data.user_id.unique().shape[0], \n",
    "                  validation_data.item_id.unique().shape[0], \n",
    "                  user_based=True,\n",
    "                  long_matrix=True,\n",
    "                  user_column=\"user_id\", item_column=\"item_id\", rating_column=\"rating\")\n",
    "\n",
    "dataset_test = Dataset(data_test, \n",
    "                  validation_data.user_id.unique().shape[0], \n",
    "                  validation_data.item_id.unique().shape[0], \n",
    "                  user_based=True,\n",
    "                  long_matrix=True,\n",
    "                  user_column=\"user_id\", item_column=\"item_id\", rating_column=\"rating\")"
   ]
  },
  {
   "cell_type": "markdown",
   "id": "1fe9e6f2-e87e-4021-bc4e-874984e85308",
   "metadata": {},
   "source": [
    "### AutoRec model init"
   ]
  },
  {
   "cell_type": "code",
   "execution_count": 7,
   "id": "166cbe16-561d-41c0-addd-85ccdd34852f",
   "metadata": {},
   "outputs": [],
   "source": [
    "i_autorec = AutoRec(\n",
    "    input_size=validation_data.item_id.unique().shape[0],\n",
    "    hidden_dims=[500],\n",
    "    encoder_activation_fn = nn.Sigmoid,\n",
    "    decoder_activation_fn = None,\n",
    "    dropout=0.05,\n",
    "    bias=True\n",
    ")"
   ]
  },
  {
   "cell_type": "code",
   "execution_count": 8,
   "id": "ec5dad2b-d100-444a-a785-9d3f0a87ca6f",
   "metadata": {},
   "outputs": [],
   "source": [
    "def init_weights(layer):\n",
    "        if isinstance(layer, nn.Linear):\n",
    "            torch.nn.init.xavier_normal_(layer.weight)\n",
    "            layer.bias.data.fill_(0.01)"
   ]
  },
  {
   "cell_type": "code",
   "execution_count": 9,
   "id": "b2a6001b-9129-49d5-888e-ffa115574d5d",
   "metadata": {},
   "outputs": [
    {
     "data": {
      "text/plain": [
       "AutoRec(\n",
       "  (encoder): Sequential(\n",
       "    (0): Linear(in_features=100, out_features=500, bias=True)\n",
       "    (1): Sigmoid()\n",
       "    (2): Dropout(p=0.05, inplace=False)\n",
       "  )\n",
       "  (decoder): Sequential(\n",
       "    (0): Linear(in_features=500, out_features=100, bias=True)\n",
       "    (1): Dropout(p=0.05, inplace=False)\n",
       "  )\n",
       ")"
      ]
     },
     "execution_count": 9,
     "metadata": {},
     "output_type": "execute_result"
    }
   ],
   "source": [
    "i_autorec.apply(init_weights)"
   ]
  },
  {
   "cell_type": "code",
   "execution_count": 10,
   "id": "5c27137f-cbf6-4f0b-8786-805ed40d521f",
   "metadata": {},
   "outputs": [],
   "source": [
    "model = Model(\n",
    "    model=i_autorec,\n",
    "    optimizer=torch.optim.Adam,\n",
    "    optimizer_config={\"lr\": 0.001, \"betas\": (0.9, 0.999), \"eps\": 1e-08, \"weight_decay\": 0.1},\n",
    "    loss_fn=nn.MSELoss(),\n",
    "    batch_size=16,\n",
    "    num_epoch=50,\n",
    "    device=torch.device(\"cuda:1\")\n",
    ")"
   ]
  },
  {
   "cell_type": "markdown",
   "id": "99145cf9-cc36-47ff-ab80-a8328f6b250a",
   "metadata": {},
   "source": [
    "### Train model"
   ]
  },
  {
   "cell_type": "code",
   "execution_count": 11,
   "id": "35aa8127-4645-4b98-99eb-a53313323222",
   "metadata": {
    "tags": []
   },
   "outputs": [],
   "source": [
    "errors = model.train(dataset_train, 0.2, False)"
   ]
  },
  {
   "cell_type": "markdown",
   "id": "ab681657-2f80-48e1-8eb3-b37d268d6f28",
   "metadata": {},
   "source": [
    "### Test model"
   ]
  },
  {
   "cell_type": "code",
   "execution_count": 12,
   "id": "bf6ff764-4b87-4db8-a695-0cf7d7186dbf",
   "metadata": {},
   "outputs": [
    {
     "data": {
      "text/plain": [
       "{'rmse': 6.249121582157134,\n",
       " 'mae': 5.589507727622986,\n",
       " 'ndcg': 0.2198385844199559}"
      ]
     },
     "execution_count": 12,
     "metadata": {},
     "output_type": "execute_result"
    }
   ],
   "source": [
    "model.test(dataset_train, dataset_test, with_nulls=False)"
   ]
  }
 ],
 "metadata": {
  "kernelspec": {
   "display_name": "Python [conda env:.conda-py3.6]",
   "language": "python",
   "name": "conda-env-.conda-py3.6-py"
  },
  "language_info": {
   "codemirror_mode": {
    "name": "ipython",
    "version": 3
   },
   "file_extension": ".py",
   "mimetype": "text/x-python",
   "name": "python",
   "nbconvert_exporter": "python",
   "pygments_lexer": "ipython3",
   "version": "3.6.13"
  }
 },
 "nbformat": 4,
 "nbformat_minor": 5
}
