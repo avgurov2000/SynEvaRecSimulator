{
 "cells": [
  {
   "cell_type": "code",
   "execution_count": 8,
   "id": "490ba7f5-ec5d-499b-a4e5-a8dad58216ae",
   "metadata": {},
   "outputs": [],
   "source": [
    "import torch \n",
    "from torch.utils import data\n",
    "from torch import nn\n",
    "\n",
    "from typing import List, Tuple, Dict, Union, Optional\n",
    "from typing import Iterable\n",
    "\n",
    "import pandas as pd\n",
    "import numpy as np\n",
    "import surprise"
   ]
  },
  {
   "cell_type": "code",
   "execution_count": null,
   "id": "981ea658-8903-49c0-b2da-7667a37ab9e9",
   "metadata": {},
   "outputs": [],
   "source": []
  },
  {
   "cell_type": "code",
   "execution_count": 2,
   "id": "47a8c263-3dd8-4031-966a-8be52dcdffc0",
   "metadata": {},
   "outputs": [],
   "source": [
    "from load_data import get_validation_data\n",
    "from utils import Dataset"
   ]
  },
  {
   "cell_type": "code",
   "execution_count": null,
   "id": "d26fdd8a-32ee-4a4f-ad52-33ce8a0f4f64",
   "metadata": {},
   "outputs": [],
   "source": []
  },
  {
   "cell_type": "code",
   "execution_count": 3,
   "id": "98b85533-8f96-45b8-a362-91f8db0e622d",
   "metadata": {},
   "outputs": [
    {
     "data": {
      "text/html": [
       "<div>\n",
       "<style scoped>\n",
       "    .dataframe tbody tr th:only-of-type {\n",
       "        vertical-align: middle;\n",
       "    }\n",
       "\n",
       "    .dataframe tbody tr th {\n",
       "        vertical-align: top;\n",
       "    }\n",
       "\n",
       "    .dataframe thead th {\n",
       "        text-align: right;\n",
       "    }\n",
       "</style>\n",
       "<table border=\"1\" class=\"dataframe\">\n",
       "  <thead>\n",
       "    <tr style=\"text-align: right;\">\n",
       "      <th></th>\n",
       "      <th>user_0</th>\n",
       "      <th>user_1</th>\n",
       "      <th>user_2</th>\n",
       "      <th>user_id</th>\n",
       "      <th>item_0</th>\n",
       "      <th>item_1</th>\n",
       "      <th>item_2</th>\n",
       "      <th>item_id</th>\n",
       "      <th>rating</th>\n",
       "    </tr>\n",
       "  </thead>\n",
       "  <tbody>\n",
       "    <tr>\n",
       "      <th>0</th>\n",
       "      <td>-0.189219</td>\n",
       "      <td>0.688799</td>\n",
       "      <td>0.496749</td>\n",
       "      <td>0</td>\n",
       "      <td>-7.189302</td>\n",
       "      <td>-17.358819</td>\n",
       "      <td>-8.191424</td>\n",
       "      <td>0</td>\n",
       "      <td>3.0</td>\n",
       "    </tr>\n",
       "    <tr>\n",
       "      <th>1</th>\n",
       "      <td>-0.189219</td>\n",
       "      <td>0.688799</td>\n",
       "      <td>0.496749</td>\n",
       "      <td>0</td>\n",
       "      <td>0.749574</td>\n",
       "      <td>0.957448</td>\n",
       "      <td>2.106965</td>\n",
       "      <td>1</td>\n",
       "      <td>9.0</td>\n",
       "    </tr>\n",
       "    <tr>\n",
       "      <th>2</th>\n",
       "      <td>-0.189219</td>\n",
       "      <td>0.688799</td>\n",
       "      <td>0.496749</td>\n",
       "      <td>0</td>\n",
       "      <td>-3.443982</td>\n",
       "      <td>-0.042470</td>\n",
       "      <td>-1.148656</td>\n",
       "      <td>2</td>\n",
       "      <td>6.0</td>\n",
       "    </tr>\n",
       "    <tr>\n",
       "      <th>3</th>\n",
       "      <td>-0.189219</td>\n",
       "      <td>0.688799</td>\n",
       "      <td>0.496749</td>\n",
       "      <td>0</td>\n",
       "      <td>-1.101991</td>\n",
       "      <td>-0.047565</td>\n",
       "      <td>-0.453863</td>\n",
       "      <td>3</td>\n",
       "      <td>6.0</td>\n",
       "    </tr>\n",
       "    <tr>\n",
       "      <th>4</th>\n",
       "      <td>-0.189219</td>\n",
       "      <td>0.688799</td>\n",
       "      <td>0.496749</td>\n",
       "      <td>0</td>\n",
       "      <td>7.837388</td>\n",
       "      <td>18.125961</td>\n",
       "      <td>19.356996</td>\n",
       "      <td>4</td>\n",
       "      <td>9.0</td>\n",
       "    </tr>\n",
       "    <tr>\n",
       "      <th>...</th>\n",
       "      <td>...</td>\n",
       "      <td>...</td>\n",
       "      <td>...</td>\n",
       "      <td>...</td>\n",
       "      <td>...</td>\n",
       "      <td>...</td>\n",
       "      <td>...</td>\n",
       "      <td>...</td>\n",
       "      <td>...</td>\n",
       "    </tr>\n",
       "    <tr>\n",
       "      <th>24995</th>\n",
       "      <td>-0.401447</td>\n",
       "      <td>-0.463426</td>\n",
       "      <td>-1.824159</td>\n",
       "      <td>249</td>\n",
       "      <td>-1.780516</td>\n",
       "      <td>-3.164613</td>\n",
       "      <td>0.289502</td>\n",
       "      <td>95</td>\n",
       "      <td>7.0</td>\n",
       "    </tr>\n",
       "    <tr>\n",
       "      <th>24996</th>\n",
       "      <td>-0.401447</td>\n",
       "      <td>-0.463426</td>\n",
       "      <td>-1.824159</td>\n",
       "      <td>249</td>\n",
       "      <td>-1.835749</td>\n",
       "      <td>-1.362072</td>\n",
       "      <td>-0.549780</td>\n",
       "      <td>96</td>\n",
       "      <td>8.0</td>\n",
       "    </tr>\n",
       "    <tr>\n",
       "      <th>24997</th>\n",
       "      <td>-0.401447</td>\n",
       "      <td>-0.463426</td>\n",
       "      <td>-1.824159</td>\n",
       "      <td>249</td>\n",
       "      <td>-0.900141</td>\n",
       "      <td>-0.433615</td>\n",
       "      <td>0.459035</td>\n",
       "      <td>97</td>\n",
       "      <td>6.0</td>\n",
       "    </tr>\n",
       "    <tr>\n",
       "      <th>24998</th>\n",
       "      <td>-0.401447</td>\n",
       "      <td>-0.463426</td>\n",
       "      <td>-1.824159</td>\n",
       "      <td>249</td>\n",
       "      <td>-1.414088</td>\n",
       "      <td>2.804230</td>\n",
       "      <td>-37.497444</td>\n",
       "      <td>98</td>\n",
       "      <td>10.0</td>\n",
       "    </tr>\n",
       "    <tr>\n",
       "      <th>24999</th>\n",
       "      <td>-0.401447</td>\n",
       "      <td>-0.463426</td>\n",
       "      <td>-1.824159</td>\n",
       "      <td>249</td>\n",
       "      <td>0.676129</td>\n",
       "      <td>5.459118</td>\n",
       "      <td>0.850149</td>\n",
       "      <td>99</td>\n",
       "      <td>5.0</td>\n",
       "    </tr>\n",
       "  </tbody>\n",
       "</table>\n",
       "<p>25000 rows × 9 columns</p>\n",
       "</div>"
      ],
      "text/plain": [
       "         user_0    user_1    user_2  user_id    item_0     item_1     item_2  \\\n",
       "0     -0.189219  0.688799  0.496749        0 -7.189302 -17.358819  -8.191424   \n",
       "1     -0.189219  0.688799  0.496749        0  0.749574   0.957448   2.106965   \n",
       "2     -0.189219  0.688799  0.496749        0 -3.443982  -0.042470  -1.148656   \n",
       "3     -0.189219  0.688799  0.496749        0 -1.101991  -0.047565  -0.453863   \n",
       "4     -0.189219  0.688799  0.496749        0  7.837388  18.125961  19.356996   \n",
       "...         ...       ...       ...      ...       ...        ...        ...   \n",
       "24995 -0.401447 -0.463426 -1.824159      249 -1.780516  -3.164613   0.289502   \n",
       "24996 -0.401447 -0.463426 -1.824159      249 -1.835749  -1.362072  -0.549780   \n",
       "24997 -0.401447 -0.463426 -1.824159      249 -0.900141  -0.433615   0.459035   \n",
       "24998 -0.401447 -0.463426 -1.824159      249 -1.414088   2.804230 -37.497444   \n",
       "24999 -0.401447 -0.463426 -1.824159      249  0.676129   5.459118   0.850149   \n",
       "\n",
       "       item_id  rating  \n",
       "0            0     3.0  \n",
       "1            1     9.0  \n",
       "2            2     6.0  \n",
       "3            3     6.0  \n",
       "4            4     9.0  \n",
       "...        ...     ...  \n",
       "24995       95     7.0  \n",
       "24996       96     8.0  \n",
       "24997       97     6.0  \n",
       "24998       98    10.0  \n",
       "24999       99     5.0  \n",
       "\n",
       "[25000 rows x 9 columns]"
      ]
     },
     "execution_count": 3,
     "metadata": {},
     "output_type": "execute_result"
    }
   ],
   "source": [
    "validation_data, heristic = get_validation_data()\n",
    "validation_data"
   ]
  },
  {
   "cell_type": "code",
   "execution_count": 30,
   "id": "df388ffa-8754-4933-9712-d2d003550d05",
   "metadata": {},
   "outputs": [],
   "source": [
    "data_sparse = validation_data #validation_data.sample(frac=0.05)\n",
    "data_sparse = data_sparse.sample(frac=0.9)\n",
    "data_train = data_sparse.sample(frac=0.8)\n",
    "data_test = data_sparse.drop(data_train.index)\n",
    "\n",
    "heu_train = heristic.loc[data_train.index]\n",
    "heu_test = heristic.loc[data_test.index]"
   ]
  },
  {
   "cell_type": "code",
   "execution_count": 31,
   "id": "f3f81215-cd85-4e5e-a248-a1b4045df433",
   "metadata": {},
   "outputs": [],
   "source": [
    "dataset_train = Dataset(data_train, \n",
    "                  validation_data.user_id.unique().shape[0], \n",
    "                  validation_data.item_id.unique().shape[0], \n",
    "                  user_based=True,\n",
    "                  long_matrix=True,\n",
    "                  user_column=\"user_id\", item_column=\"item_id\", rating_column=\"rating\")\n",
    "\n",
    "dataset_test = Dataset(data_test, \n",
    "                  validation_data.user_id.unique().shape[0], \n",
    "                  validation_data.item_id.unique().shape[0], \n",
    "                  user_based=True,\n",
    "                  long_matrix=True,\n",
    "                  user_column=\"user_id\", item_column=\"item_id\", rating_column=\"rating\")\n",
    "\n",
    "heuset_train = Dataset(heu_train, \n",
    "                  validation_data.user_id.unique().shape[0], \n",
    "                  validation_data.item_id.unique().shape[0], \n",
    "                  user_based=True,\n",
    "                  long_matrix=True,\n",
    "                  user_column=\"user_id\", item_column=\"item_id\", rating_column=\"rating\")\n",
    "\n",
    "heuset_test = Dataset(heu_test, \n",
    "                  validation_data.user_id.unique().shape[0], \n",
    "                  validation_data.item_id.unique().shape[0], \n",
    "                  user_based=True,\n",
    "                  long_matrix=True,\n",
    "                  user_column=\"user_id\", item_column=\"item_id\", rating_column=\"rating\")"
   ]
  },
  {
   "cell_type": "code",
   "execution_count": 32,
   "id": "ceac1b58-1e16-46cc-a1ab-bd940f66a684",
   "metadata": {},
   "outputs": [],
   "source": [
    "from models import CollobarativeModel"
   ]
  },
  {
   "cell_type": "code",
   "execution_count": 33,
   "id": "3f539b44-5838-47ae-a51b-5a452729a516",
   "metadata": {},
   "outputs": [
    {
     "name": "stdout",
     "output_type": "stream",
     "text": [
      "<surprise.trainset.Trainset object at 0x7fccf86dd8d0>\n",
      "RMSE: 1.0505\n",
      "MAE:  0.5351\n"
     ]
    },
    {
     "data": {
      "text/plain": [
       "{'rmse': 1.0505247635043073,\n",
       " 'mae': 0.5350650813442086,\n",
       " 'ndcg': 0.8399529364935231}"
      ]
     },
     "execution_count": 33,
     "metadata": {},
     "output_type": "execute_result"
    }
   ],
   "source": [
    "svd = CollobarativeModel(surprise.SVD, \"SVD\")\n",
    "svd.train(dataset_train)\n",
    "svd.test(dataset_test)"
   ]
  },
  {
   "cell_type": "code",
   "execution_count": 34,
   "id": "603c7ea0-ec5e-4b68-9dc8-e30434bdf30f",
   "metadata": {},
   "outputs": [
    {
     "name": "stdout",
     "output_type": "stream",
     "text": [
      "<surprise.trainset.Trainset object at 0x7fccf86dde48>\n",
      "RMSE: 1.4846\n",
      "MAE:  1.0781\n"
     ]
    },
    {
     "data": {
      "text/plain": [
       "{'rmse': 1.4845595319303118,\n",
       " 'mae': 1.07809049874095,\n",
       " 'ndcg': 0.8297430632507045}"
      ]
     },
     "execution_count": 34,
     "metadata": {},
     "output_type": "execute_result"
    }
   ],
   "source": [
    "nmf = CollobarativeModel(surprise.NMF, \"NMF\")\n",
    "nmf.train(dataset_train)\n",
    "nmf.test(dataset_test)"
   ]
  },
  {
   "cell_type": "code",
   "execution_count": 35,
   "id": "cab6d005-6eee-4176-af4b-280733533322",
   "metadata": {},
   "outputs": [
    {
     "name": "stdout",
     "output_type": "stream",
     "text": [
      "<surprise.trainset.Trainset object at 0x7fccf864bb38>\n",
      "Computing the msd similarity matrix...\n",
      "Done computing similarity matrix.\n",
      "RMSE: 1.1662\n",
      "MAE:  0.6648\n"
     ]
    },
    {
     "data": {
      "text/plain": [
       "{'rmse': 1.1662037317613203,\n",
       " 'mae': 0.6647512120117873,\n",
       " 'ndcg': 0.8342587704586688}"
      ]
     },
     "execution_count": 35,
     "metadata": {},
     "output_type": "execute_result"
    }
   ],
   "source": [
    "knn = CollobarativeModel(surprise.KNNBasic, \"kNN\")\n",
    "knn.train(dataset_train)\n",
    "knn.test(dataset_test)"
   ]
  },
  {
   "cell_type": "code",
   "execution_count": null,
   "id": "4a753c89-207d-412a-9963-46f95491f14c",
   "metadata": {},
   "outputs": [],
   "source": []
  },
  {
   "cell_type": "code",
   "execution_count": null,
   "id": "d839a81d-88af-4dcb-879a-bd806ddf7d77",
   "metadata": {},
   "outputs": [],
   "source": []
  },
  {
   "cell_type": "code",
   "execution_count": null,
   "id": "06f6d275-993a-4e31-9f8f-04eb9d87b3a4",
   "metadata": {},
   "outputs": [],
   "source": []
  }
 ],
 "metadata": {
  "kernelspec": {
   "display_name": "Python [conda env:.conda-py3.6]",
   "language": "python",
   "name": "conda-env-.conda-py3.6-py"
  },
  "language_info": {
   "codemirror_mode": {
    "name": "ipython",
    "version": 3
   },
   "file_extension": ".py",
   "mimetype": "text/x-python",
   "name": "python",
   "nbconvert_exporter": "python",
   "pygments_lexer": "ipython3",
   "version": "3.6.13"
  }
 },
 "nbformat": 4,
 "nbformat_minor": 5
}
